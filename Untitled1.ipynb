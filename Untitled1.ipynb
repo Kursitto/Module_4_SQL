{
 "cells": [
  {
   "cell_type": "code",
   "execution_count": null,
   "metadata": {},
   "outputs": [],
   "source": [
    "WITH a AS\n",
    "  (SELECT fl.flight_id,\n",
    "          fl.arrival_airport,\n",
    "          fl.scheduled_departure,\n",
    "          fl.aircraft_code,\n",
    "          fl.departure_airport,\n",
    "          (extract(MINUTE FROM fl.actual_arrival)+extract(HOUR FROM fl.actual_arrival)*60-extract(MINUTE FROM fl.actual_departure)-extract(HOUR FROM fl.actual_departure)*60) duration\n",
    "   FROM dst_project.flights fl\n",
    "   LEFT JOIN dst_project.airports airp ON fl.arrival_airport = airp.airport_code\n",
    "   LEFT JOIN dst_project.aircrafts aircr ON fl.aircraft_code = aircr.aircraft_code), \n",
    " b AS\n",
    "  (SELECT tick.flight_id,\n",
    "          sum(tick.amount) tick_cost\n",
    "   FROM dst_project.ticket_flights tick\n",
    "   GROUP BY 1),\n",
    "  c AS\n",
    "  (SELECT tick.flight_id,\n",
    "          count(CASE WHEN tick.fare_conditions = 'Economy' THEN tick.fare_conditions END) total_economy,\n",
    "          count(CASE WHEN tick.fare_conditions = 'Comfort' THEN tick.fare_conditions END)  total_comfort,\n",
    "          count(CASE WHEN tick.fare_conditions = 'Business' THEN tick.fare_conditions END)  total_bisiness\n",
    "   FROM dst_project.ticket_flights tick\n",
    "   GROUP BY 1)\n",
    "SELECT row_number()over (ORDER BY b.tick_cost),\n",
    "       a.flight_id,\n",
    "       a.departure_airport,\n",
    "       a.arrival_airport,\n",
    "       a.duration,\n",
    "       a.scheduled_departure,\n",
    "       a.aircraft_code,\n",
    "       b.tick_cost,\n",
    "       c.total_economy,\n",
    "       c.total_comfort,\n",
    "       c.total_bisiness\n",
    "FROM dst_project.flights fl\n",
    "LEFT JOIN a ON fl.flight_id = a.flight_id\n",
    "LEFT JOIN b ON fl.flight_id = b.flight_id\n",
    "LEFT JOIN c ON fl.flight_id = c.flight_id\n",
    "WHERE a.departure_airport = 'AAQ'\n",
    "  AND (date_trunc('month', a.scheduled_departure) in ('2017-01-01', '2017-02-01','2017-12-01'))\n",
    "  AND status not in ('Cancelled')\n",
    "ORDER BY b.tick_cost\n"
   ]
  }
 ],
 "metadata": {
  "kernelspec": {
   "display_name": "Python 3",
   "language": "python",
   "name": "python3"
  },
  "language_info": {
   "codemirror_mode": {
    "name": "ipython",
    "version": 3
   },
   "file_extension": ".py",
   "mimetype": "text/x-python",
   "name": "python",
   "nbconvert_exporter": "python",
   "pygments_lexer": "ipython3",
   "version": "3.8.5"
  }
 },
 "nbformat": 4,
 "nbformat_minor": 4
}
