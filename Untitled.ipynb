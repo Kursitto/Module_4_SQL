{
 "cells": [
  {
   "cell_type": "code",
   "execution_count": 89,
   "metadata": {},
   "outputs": [],
   "source": [
    "import pandas as pd\n",
    "import matplotlib.pyplot as plt\n",
    "%matplotlib inline\n",
    "df = pd.read_csv('DataBase.csv')\n"
   ]
  },
  {
   "cell_type": "code",
   "execution_count": 90,
   "metadata": {},
   "outputs": [
    {
     "data": {
      "text/plain": [
       "row_number             0\n",
       "flight_id              0\n",
       "departure_airport      0\n",
       "arrival_airport        0\n",
       "duration               0\n",
       "scheduled_departure    0\n",
       "aircraft_code          0\n",
       "tick_cost              9\n",
       "total_economy          9\n",
       "total_comfort          9\n",
       "total_bisiness         9\n",
       "dtype: int64"
      ]
     },
     "execution_count": 90,
     "metadata": {},
     "output_type": "execute_result"
    }
   ],
   "source": [
    "df.isna().sum()"
   ]
  },
  {
   "cell_type": "code",
   "execution_count": 91,
   "metadata": {},
   "outputs": [
    {
     "data": {
      "text/html": [
       "<div>\n",
       "<style scoped>\n",
       "    .dataframe tbody tr th:only-of-type {\n",
       "        vertical-align: middle;\n",
       "    }\n",
       "\n",
       "    .dataframe tbody tr th {\n",
       "        vertical-align: top;\n",
       "    }\n",
       "\n",
       "    .dataframe thead th {\n",
       "        text-align: right;\n",
       "    }\n",
       "</style>\n",
       "<table border=\"1\" class=\"dataframe\">\n",
       "  <thead>\n",
       "    <tr style=\"text-align: right;\">\n",
       "      <th></th>\n",
       "      <th>row_number</th>\n",
       "      <th>flight_id</th>\n",
       "      <th>departure_airport</th>\n",
       "      <th>arrival_airport</th>\n",
       "      <th>duration</th>\n",
       "      <th>scheduled_departure</th>\n",
       "      <th>aircraft_code</th>\n",
       "      <th>tick_cost</th>\n",
       "      <th>total_economy</th>\n",
       "      <th>total_comfort</th>\n",
       "      <th>total_bisiness</th>\n",
       "    </tr>\n",
       "  </thead>\n",
       "  <tbody>\n",
       "    <tr>\n",
       "      <th>108</th>\n",
       "      <td>109</td>\n",
       "      <td>136249</td>\n",
       "      <td>AAQ</td>\n",
       "      <td>SVO</td>\n",
       "      <td>98.0</td>\n",
       "      <td>2017-02-14T10:05:00Z</td>\n",
       "      <td>733</td>\n",
       "      <td>1800600.0</td>\n",
       "      <td>111.0</td>\n",
       "      <td>0.0</td>\n",
       "      <td>12.0</td>\n",
       "    </tr>\n",
       "    <tr>\n",
       "      <th>44</th>\n",
       "      <td>45</td>\n",
       "      <td>136755</td>\n",
       "      <td>AAQ</td>\n",
       "      <td>EGO</td>\n",
       "      <td>50.0</td>\n",
       "      <td>2017-01-21T09:25:00Z</td>\n",
       "      <td>SU9</td>\n",
       "      <td>765300.0</td>\n",
       "      <td>85.0</td>\n",
       "      <td>0.0</td>\n",
       "      <td>12.0</td>\n",
       "    </tr>\n",
       "    <tr>\n",
       "      <th>10</th>\n",
       "      <td>11</td>\n",
       "      <td>136936</td>\n",
       "      <td>AAQ</td>\n",
       "      <td>EGO</td>\n",
       "      <td>50.0</td>\n",
       "      <td>2017-01-02T09:25:00Z</td>\n",
       "      <td>SU9</td>\n",
       "      <td>632400.0</td>\n",
       "      <td>73.0</td>\n",
       "      <td>0.0</td>\n",
       "      <td>9.0</td>\n",
       "    </tr>\n",
       "    <tr>\n",
       "      <th>53</th>\n",
       "      <td>54</td>\n",
       "      <td>136827</td>\n",
       "      <td>AAQ</td>\n",
       "      <td>EGO</td>\n",
       "      <td>51.0</td>\n",
       "      <td>2017-02-18T09:25:00Z</td>\n",
       "      <td>SU9</td>\n",
       "      <td>765300.0</td>\n",
       "      <td>85.0</td>\n",
       "      <td>0.0</td>\n",
       "      <td>12.0</td>\n",
       "    </tr>\n",
       "    <tr>\n",
       "      <th>65</th>\n",
       "      <td>66</td>\n",
       "      <td>136383</td>\n",
       "      <td>AAQ</td>\n",
       "      <td>SVO</td>\n",
       "      <td>102.0</td>\n",
       "      <td>2017-01-25T10:05:00Z</td>\n",
       "      <td>733</td>\n",
       "      <td>1493200.0</td>\n",
       "      <td>98.0</td>\n",
       "      <td>0.0</td>\n",
       "      <td>8.0</td>\n",
       "    </tr>\n",
       "  </tbody>\n",
       "</table>\n",
       "</div>"
      ],
      "text/plain": [
       "     row_number  flight_id departure_airport arrival_airport  duration  \\\n",
       "108         109     136249               AAQ             SVO      98.0   \n",
       "44           45     136755               AAQ             EGO      50.0   \n",
       "10           11     136936               AAQ             EGO      50.0   \n",
       "53           54     136827               AAQ             EGO      51.0   \n",
       "65           66     136383               AAQ             SVO     102.0   \n",
       "\n",
       "      scheduled_departure aircraft_code  tick_cost  total_economy  \\\n",
       "108  2017-02-14T10:05:00Z           733  1800600.0          111.0   \n",
       "44   2017-01-21T09:25:00Z           SU9   765300.0           85.0   \n",
       "10   2017-01-02T09:25:00Z           SU9   632400.0           73.0   \n",
       "53   2017-02-18T09:25:00Z           SU9   765300.0           85.0   \n",
       "65   2017-01-25T10:05:00Z           733  1493200.0           98.0   \n",
       "\n",
       "     total_comfort  total_bisiness  \n",
       "108            0.0            12.0  \n",
       "44             0.0            12.0  \n",
       "10             0.0             9.0  \n",
       "53             0.0            12.0  \n",
       "65             0.0             8.0  "
      ]
     },
     "execution_count": 91,
     "metadata": {},
     "output_type": "execute_result"
    }
   ],
   "source": [
    "df.sample(5)"
   ]
  },
  {
   "cell_type": "code",
   "execution_count": 92,
   "metadata": {},
   "outputs": [
    {
     "data": {
      "text/plain": [
       "SVO    59\n",
       "EGO    59\n",
       "NOZ     9\n",
       "Name: arrival_airport, dtype: int64"
      ]
     },
     "execution_count": 92,
     "metadata": {},
     "output_type": "execute_result"
    }
   ],
   "source": [
    "df.arrival_airport.value_counts()"
   ]
  },
  {
   "cell_type": "code",
   "execution_count": 93,
   "metadata": {},
   "outputs": [],
   "source": [
    "#удаляем строки с пустыми значениями\n",
    "df.drop(df[df.arrival_airport == 'NOZ'].index, inplace=True)"
   ]
  },
  {
   "cell_type": "code",
   "execution_count": 94,
   "metadata": {},
   "outputs": [
    {
     "data": {
      "text/plain": [
       "row_number             0\n",
       "flight_id              0\n",
       "departure_airport      0\n",
       "arrival_airport        0\n",
       "duration               0\n",
       "scheduled_departure    0\n",
       "aircraft_code          0\n",
       "tick_cost              0\n",
       "total_economy          0\n",
       "total_comfort          0\n",
       "total_bisiness         0\n",
       "dtype: int64"
      ]
     },
     "execution_count": 94,
     "metadata": {},
     "output_type": "execute_result"
    }
   ],
   "source": [
    "#проверим корректно ли удалились строки\n",
    "df.isna().sum()"
   ]
  },
  {
   "cell_type": "code",
   "execution_count": 95,
   "metadata": {},
   "outputs": [],
   "source": [
    "#из столбца Scheduled_departure выделим признак: номер месяца\n",
    "df['month'] = pd.DatetimeIndex(df['scheduled_departure']).month"
   ]
  },
  {
   "cell_type": "code",
   "execution_count": 96,
   "metadata": {},
   "outputs": [
    {
     "data": {
      "text/html": [
       "<div>\n",
       "<style scoped>\n",
       "    .dataframe tbody tr th:only-of-type {\n",
       "        vertical-align: middle;\n",
       "    }\n",
       "\n",
       "    .dataframe tbody tr th {\n",
       "        vertical-align: top;\n",
       "    }\n",
       "\n",
       "    .dataframe thead th {\n",
       "        text-align: right;\n",
       "    }\n",
       "</style>\n",
       "<table border=\"1\" class=\"dataframe\">\n",
       "  <thead>\n",
       "    <tr style=\"text-align: right;\">\n",
       "      <th></th>\n",
       "      <th>row_number</th>\n",
       "      <th>flight_id</th>\n",
       "      <th>departure_airport</th>\n",
       "      <th>arrival_airport</th>\n",
       "      <th>duration</th>\n",
       "      <th>scheduled_departure</th>\n",
       "      <th>aircraft_code</th>\n",
       "      <th>tick_cost</th>\n",
       "      <th>total_economy</th>\n",
       "      <th>total_comfort</th>\n",
       "      <th>total_bisiness</th>\n",
       "      <th>month</th>\n",
       "    </tr>\n",
       "  </thead>\n",
       "  <tbody>\n",
       "    <tr>\n",
       "      <th>67</th>\n",
       "      <td>68</td>\n",
       "      <td>136486</td>\n",
       "      <td>AAQ</td>\n",
       "      <td>SVO</td>\n",
       "      <td>101.0</td>\n",
       "      <td>2017-02-02T10:05:00Z</td>\n",
       "      <td>733</td>\n",
       "      <td>1505400.0</td>\n",
       "      <td>99.0</td>\n",
       "      <td>0.0</td>\n",
       "      <td>8.0</td>\n",
       "      <td>2</td>\n",
       "    </tr>\n",
       "    <tr>\n",
       "      <th>77</th>\n",
       "      <td>78</td>\n",
       "      <td>136266</td>\n",
       "      <td>AAQ</td>\n",
       "      <td>SVO</td>\n",
       "      <td>100.0</td>\n",
       "      <td>2017-02-27T10:05:00Z</td>\n",
       "      <td>733</td>\n",
       "      <td>1566400.0</td>\n",
       "      <td>98.0</td>\n",
       "      <td>0.0</td>\n",
       "      <td>10.0</td>\n",
       "      <td>2</td>\n",
       "    </tr>\n",
       "    <tr>\n",
       "      <th>72</th>\n",
       "      <td>73</td>\n",
       "      <td>136366</td>\n",
       "      <td>AAQ</td>\n",
       "      <td>SVO</td>\n",
       "      <td>99.0</td>\n",
       "      <td>2017-01-11T10:05:00Z</td>\n",
       "      <td>733</td>\n",
       "      <td>1527400.0</td>\n",
       "      <td>92.0</td>\n",
       "      <td>0.0</td>\n",
       "      <td>11.0</td>\n",
       "      <td>1</td>\n",
       "    </tr>\n",
       "    <tr>\n",
       "      <th>22</th>\n",
       "      <td>23</td>\n",
       "      <td>136632</td>\n",
       "      <td>AAQ</td>\n",
       "      <td>EGO</td>\n",
       "      <td>51.0</td>\n",
       "      <td>2017-01-07T09:25:00Z</td>\n",
       "      <td>SU9</td>\n",
       "      <td>714300.0</td>\n",
       "      <td>80.0</td>\n",
       "      <td>0.0</td>\n",
       "      <td>11.0</td>\n",
       "      <td>1</td>\n",
       "    </tr>\n",
       "    <tr>\n",
       "      <th>8</th>\n",
       "      <td>9</td>\n",
       "      <td>136888</td>\n",
       "      <td>AAQ</td>\n",
       "      <td>EGO</td>\n",
       "      <td>50.0</td>\n",
       "      <td>2017-02-14T09:25:00Z</td>\n",
       "      <td>SU9</td>\n",
       "      <td>626100.0</td>\n",
       "      <td>69.0</td>\n",
       "      <td>0.0</td>\n",
       "      <td>10.0</td>\n",
       "      <td>2</td>\n",
       "    </tr>\n",
       "  </tbody>\n",
       "</table>\n",
       "</div>"
      ],
      "text/plain": [
       "    row_number  flight_id departure_airport arrival_airport  duration  \\\n",
       "67          68     136486               AAQ             SVO     101.0   \n",
       "77          78     136266               AAQ             SVO     100.0   \n",
       "72          73     136366               AAQ             SVO      99.0   \n",
       "22          23     136632               AAQ             EGO      51.0   \n",
       "8            9     136888               AAQ             EGO      50.0   \n",
       "\n",
       "     scheduled_departure aircraft_code  tick_cost  total_economy  \\\n",
       "67  2017-02-02T10:05:00Z           733  1505400.0           99.0   \n",
       "77  2017-02-27T10:05:00Z           733  1566400.0           98.0   \n",
       "72  2017-01-11T10:05:00Z           733  1527400.0           92.0   \n",
       "22  2017-01-07T09:25:00Z           SU9   714300.0           80.0   \n",
       "8   2017-02-14T09:25:00Z           SU9   626100.0           69.0   \n",
       "\n",
       "    total_comfort  total_bisiness  month  \n",
       "67            0.0             8.0      2  \n",
       "77            0.0            10.0      2  \n",
       "72            0.0            11.0      1  \n",
       "22            0.0            11.0      1  \n",
       "8             0.0            10.0      2  "
      ]
     },
     "execution_count": 96,
     "metadata": {},
     "output_type": "execute_result"
    }
   ],
   "source": [
    "df.sample(5)"
   ]
  },
  {
   "cell_type": "markdown",
   "metadata": {},
   "source": [
    "Добавим новые признаки:\n",
    "1. Заполняемость самолета (кол-во занятых мест / общее колво мест)"
   ]
  },
  {
   "cell_type": "code",
   "execution_count": 99,
   "metadata": {},
   "outputs": [
    {
     "data": {
      "text/html": [
       "<div>\n",
       "<style scoped>\n",
       "    .dataframe tbody tr th:only-of-type {\n",
       "        vertical-align: middle;\n",
       "    }\n",
       "\n",
       "    .dataframe tbody tr th {\n",
       "        vertical-align: top;\n",
       "    }\n",
       "\n",
       "    .dataframe thead th {\n",
       "        text-align: right;\n",
       "    }\n",
       "</style>\n",
       "<table border=\"1\" class=\"dataframe\">\n",
       "  <thead>\n",
       "    <tr style=\"text-align: right;\">\n",
       "      <th></th>\n",
       "      <th>row_number</th>\n",
       "      <th>flight_id</th>\n",
       "      <th>departure_airport</th>\n",
       "      <th>arrival_airport</th>\n",
       "      <th>duration</th>\n",
       "      <th>scheduled_departure</th>\n",
       "      <th>aircraft_code</th>\n",
       "      <th>tick_cost</th>\n",
       "      <th>total_economy</th>\n",
       "      <th>total_comfort</th>\n",
       "      <th>total_bisiness</th>\n",
       "      <th>month</th>\n",
       "      <th>occupancy</th>\n",
       "      <th>profit</th>\n",
       "    </tr>\n",
       "  </thead>\n",
       "  <tbody>\n",
       "    <tr>\n",
       "      <th>58</th>\n",
       "      <td>59</td>\n",
       "      <td>136953</td>\n",
       "      <td>AAQ</td>\n",
       "      <td>EGO</td>\n",
       "      <td>50.0</td>\n",
       "      <td>2017-02-27T09:25:00Z</td>\n",
       "      <td>SU9</td>\n",
       "      <td>765300.0</td>\n",
       "      <td>85.0</td>\n",
       "      <td>0.0</td>\n",
       "      <td>12.0</td>\n",
       "      <td>2</td>\n",
       "      <td>1.00</td>\n",
       "      <td>702015.71</td>\n",
       "    </tr>\n",
       "    <tr>\n",
       "      <th>63</th>\n",
       "      <td>64</td>\n",
       "      <td>136360</td>\n",
       "      <td>AAQ</td>\n",
       "      <td>SVO</td>\n",
       "      <td>100.0</td>\n",
       "      <td>2017-02-05T10:05:00Z</td>\n",
       "      <td>733</td>\n",
       "      <td>1455400.0</td>\n",
       "      <td>86.0</td>\n",
       "      <td>0.0</td>\n",
       "      <td>11.0</td>\n",
       "      <td>2</td>\n",
       "      <td>0.75</td>\n",
       "      <td>1261824.54</td>\n",
       "    </tr>\n",
       "    <tr>\n",
       "      <th>6</th>\n",
       "      <td>7</td>\n",
       "      <td>136823</td>\n",
       "      <td>AAQ</td>\n",
       "      <td>EGO</td>\n",
       "      <td>51.0</td>\n",
       "      <td>2017-02-05T09:25:00Z</td>\n",
       "      <td>SU9</td>\n",
       "      <td>620400.0</td>\n",
       "      <td>68.0</td>\n",
       "      <td>0.0</td>\n",
       "      <td>10.0</td>\n",
       "      <td>2</td>\n",
       "      <td>0.80</td>\n",
       "      <td>555850.03</td>\n",
       "    </tr>\n",
       "  </tbody>\n",
       "</table>\n",
       "</div>"
      ],
      "text/plain": [
       "    row_number  flight_id departure_airport arrival_airport  duration  \\\n",
       "58          59     136953               AAQ             EGO      50.0   \n",
       "63          64     136360               AAQ             SVO     100.0   \n",
       "6            7     136823               AAQ             EGO      51.0   \n",
       "\n",
       "     scheduled_departure aircraft_code  tick_cost  total_economy  \\\n",
       "58  2017-02-27T09:25:00Z           SU9   765300.0           85.0   \n",
       "63  2017-02-05T10:05:00Z           733  1455400.0           86.0   \n",
       "6   2017-02-05T09:25:00Z           SU9   620400.0           68.0   \n",
       "\n",
       "    total_comfort  total_bisiness  month  occupancy      profit  \n",
       "58            0.0            12.0      2       1.00   702015.71  \n",
       "63            0.0            11.0      2       0.75  1261824.54  \n",
       "6             0.0            10.0      2       0.80   555850.03  "
      ]
     },
     "execution_count": 99,
     "metadata": {},
     "output_type": "execute_result"
    }
   ],
   "source": [
    "\n",
    "def occupancy(data):\n",
    "    if str(data.aircraft_code) == '733':\n",
    "        return round(float(data.total_economy + data.total_comfort + data.total_bisiness) / 130,2)\n",
    "    elif str(data.aircraft_code) == 'SU9':\n",
    "        return round(float(data.total_economy + data.total_comfort + data.total_bisiness) / 97,2)\n",
    "#общее кол-во мест определено запросоь SQL из таблицы dst_project.seats\n",
    "    \n",
    "df['occupancy'] = df.apply(occupancy,1)\n",
    "df.sample(3)"
   ]
  },
  {
   "cell_type": "markdown",
   "metadata": {},
   "source": [
    "2. Прибыль. Посчитаем ее как стоимость всех билетов рейса - затраты на топливо\n",
    "(пренебрежем информацией о косвенных затратах ввиду их незначительности)\n",
    "расход у самолета с кодом 733 (Boeing 737-300) -2600 л/ч, у SU9 (Sukhoi Superjet-100) - 1700 л/ч\n",
    "цена топлива 47920руб за 1 тн (т.е. 37 857 руб. за 1000л.) (принимаем значение из интернета https://favt.gov.ru/dejatelnost-ajeroporty-i-ajerodromy-ceny-na-aviagsm/?id=7329, т.к. цена топлива варьируется от аэропорта,\n",
    "в котором заправляется самолет, поэтому нужна фактические данные)"
   ]
  },
  {
   "cell_type": "code",
   "execution_count": 100,
   "metadata": {},
   "outputs": [],
   "source": [
    "\n",
    "def profit(data):\n",
    "    if str(data.aircraft_code) == '733':\n",
    "        return round(data.tick_cost - float(data.duration) / 60 * 2600 * 37857 * 1.18 / 1000,2)\n",
    "    elif str(data.aircraft_code) == 'SU9':\n",
    "        return round(data.tick_cost - float(data.duration) / 60 * 1700 * 37857 * 1.18 / 1000, 2)\n",
    "    \n",
    "df['profit'] = df.apply(profit,1)\n"
   ]
  },
  {
   "cell_type": "code",
   "execution_count": 101,
   "metadata": {
    "scrolled": true
   },
   "outputs": [
    {
     "data": {
      "text/html": [
       "<div>\n",
       "<style scoped>\n",
       "    .dataframe tbody tr th:only-of-type {\n",
       "        vertical-align: middle;\n",
       "    }\n",
       "\n",
       "    .dataframe tbody tr th {\n",
       "        vertical-align: top;\n",
       "    }\n",
       "\n",
       "    .dataframe thead th {\n",
       "        text-align: right;\n",
       "    }\n",
       "</style>\n",
       "<table border=\"1\" class=\"dataframe\">\n",
       "  <thead>\n",
       "    <tr style=\"text-align: right;\">\n",
       "      <th></th>\n",
       "      <th>row_number</th>\n",
       "      <th>flight_id</th>\n",
       "      <th>departure_airport</th>\n",
       "      <th>arrival_airport</th>\n",
       "      <th>duration</th>\n",
       "      <th>scheduled_departure</th>\n",
       "      <th>aircraft_code</th>\n",
       "      <th>tick_cost</th>\n",
       "      <th>total_economy</th>\n",
       "      <th>total_comfort</th>\n",
       "      <th>total_bisiness</th>\n",
       "      <th>month</th>\n",
       "      <th>occupancy</th>\n",
       "      <th>profit</th>\n",
       "    </tr>\n",
       "  </thead>\n",
       "  <tbody>\n",
       "    <tr>\n",
       "      <th>88</th>\n",
       "      <td>89</td>\n",
       "      <td>136270</td>\n",
       "      <td>AAQ</td>\n",
       "      <td>SVO</td>\n",
       "      <td>99.0</td>\n",
       "      <td>2017-02-12T10:05:00Z</td>\n",
       "      <td>733</td>\n",
       "      <td>1628600.0</td>\n",
       "      <td>100.0</td>\n",
       "      <td>0.0</td>\n",
       "      <td>11.0</td>\n",
       "      <td>2</td>\n",
       "      <td>0.85</td>\n",
       "      <td>1436960.29</td>\n",
       "    </tr>\n",
       "    <tr>\n",
       "      <th>90</th>\n",
       "      <td>91</td>\n",
       "      <td>136310</td>\n",
       "      <td>AAQ</td>\n",
       "      <td>SVO</td>\n",
       "      <td>100.0</td>\n",
       "      <td>2017-01-22T10:05:00Z</td>\n",
       "      <td>733</td>\n",
       "      <td>1654200.0</td>\n",
       "      <td>108.0</td>\n",
       "      <td>0.0</td>\n",
       "      <td>9.0</td>\n",
       "      <td>1</td>\n",
       "      <td>0.90</td>\n",
       "      <td>1460624.54</td>\n",
       "    </tr>\n",
       "    <tr>\n",
       "      <th>23</th>\n",
       "      <td>24</td>\n",
       "      <td>136780</td>\n",
       "      <td>AAQ</td>\n",
       "      <td>EGO</td>\n",
       "      <td>50.0</td>\n",
       "      <td>2017-02-24T09:25:00Z</td>\n",
       "      <td>SU9</td>\n",
       "      <td>714900.0</td>\n",
       "      <td>77.0</td>\n",
       "      <td>0.0</td>\n",
       "      <td>12.0</td>\n",
       "      <td>2</td>\n",
       "      <td>0.92</td>\n",
       "      <td>651615.71</td>\n",
       "    </tr>\n",
       "  </tbody>\n",
       "</table>\n",
       "</div>"
      ],
      "text/plain": [
       "    row_number  flight_id departure_airport arrival_airport  duration  \\\n",
       "88          89     136270               AAQ             SVO      99.0   \n",
       "90          91     136310               AAQ             SVO     100.0   \n",
       "23          24     136780               AAQ             EGO      50.0   \n",
       "\n",
       "     scheduled_departure aircraft_code  tick_cost  total_economy  \\\n",
       "88  2017-02-12T10:05:00Z           733  1628600.0          100.0   \n",
       "90  2017-01-22T10:05:00Z           733  1654200.0          108.0   \n",
       "23  2017-02-24T09:25:00Z           SU9   714900.0           77.0   \n",
       "\n",
       "    total_comfort  total_bisiness  month  occupancy      profit  \n",
       "88            0.0            11.0      2       0.85  1436960.29  \n",
       "90            0.0             9.0      1       0.90  1460624.54  \n",
       "23            0.0            12.0      2       0.92   651615.71  "
      ]
     },
     "execution_count": 101,
     "metadata": {},
     "output_type": "execute_result"
    }
   ],
   "source": [
    "df.sample(3)"
   ]
  },
  {
   "cell_type": "markdown",
   "metadata": {},
   "source": [
    "Единственый показатель, который мы высчитали путем feature engineering (затраты на топливо - expenses) составляет 14-15% от общей валовой выручки (стоимости билетов). Показатель имеет маленький вес, поэтому мы не будем на него опираться.\n",
    "Для оценки безубыточности рейсов у нас содержится критично мало информации. Мы не имеем такие важные показатели как:\n",
    "- расходы на амортизацию и техобсуживание двигателей\n",
    "- расходы на амортизацию и техобслуживание планера\n",
    "- фонд оплаты труда летно-подъемного составва\n",
    "- наземные сервисные расходы\n",
    "- реальный расход топлива (зависит от высоты, веса, скорости).\n",
    "\n",
    "Таким образом ы прибегнем к простой оценки прибыльности: определим за правило, что рейс считается безубыточным, если заполняемость в салоне составляет 75 и более процентов.\n",
    "\n",
    "Посмотрим на распределение параметра заполняемости:\n"
   ]
  },
  {
   "cell_type": "code",
   "execution_count": 102,
   "metadata": {},
   "outputs": [
    {
     "data": {
      "text/plain": [
       "(array([ 1.,  1.,  4.,  4., 19., 15., 10., 18.,  7., 39.]),\n",
       " array([0.66 , 0.694, 0.728, 0.762, 0.796, 0.83 , 0.864, 0.898, 0.932,\n",
       "        0.966, 1.   ]),\n",
       " <BarContainer object of 10 artists>)"
      ]
     },
     "execution_count": 102,
     "metadata": {},
     "output_type": "execute_result"
    },
    {
     "data": {
      "image/png": "[encoded data removed]",
      "text/plain": [
       "<Figure size 432x288 with 1 Axes>"
      ]
     },
     "metadata": {
      "needs_background": "light"
     },
     "output_type": "display_data"
    }
   ],
   "source": [
    "fig = plt.figure()\n",
    "axes = fig.add_axes([0, 0, 1, 1])\n",
    "axes.hist(df['occupancy'])"
   ]
  },
  {
   "cell_type": "markdown",
   "metadata": {},
   "source": [
    "Мы видим, что  в целом, заполняемость на рейсах неплохая, существует не так много рейсов с низким показателем заполняемости.\n",
    "Найдем эти рейсы"
   ]
  },
  {
   "cell_type": "code",
   "execution_count": 104,
   "metadata": {},
   "outputs": [
    {
     "data": {
      "text/html": [
       "<div>\n",
       "<style scoped>\n",
       "    .dataframe tbody tr th:only-of-type {\n",
       "        vertical-align: middle;\n",
       "    }\n",
       "\n",
       "    .dataframe tbody tr th {\n",
       "        vertical-align: top;\n",
       "    }\n",
       "\n",
       "    .dataframe thead th {\n",
       "        text-align: right;\n",
       "    }\n",
       "</style>\n",
       "<table border=\"1\" class=\"dataframe\">\n",
       "  <thead>\n",
       "    <tr style=\"text-align: right;\">\n",
       "      <th></th>\n",
       "      <th>row_number</th>\n",
       "      <th>flight_id</th>\n",
       "      <th>departure_airport</th>\n",
       "      <th>arrival_airport</th>\n",
       "      <th>duration</th>\n",
       "      <th>scheduled_departure</th>\n",
       "      <th>aircraft_code</th>\n",
       "      <th>tick_cost</th>\n",
       "      <th>total_economy</th>\n",
       "      <th>total_comfort</th>\n",
       "      <th>total_bisiness</th>\n",
       "      <th>month</th>\n",
       "      <th>occupancy</th>\n",
       "      <th>profit</th>\n",
       "    </tr>\n",
       "  </thead>\n",
       "  <tbody>\n",
       "    <tr>\n",
       "      <th>0</th>\n",
       "      <td>1</td>\n",
       "      <td>136807</td>\n",
       "      <td>AAQ</td>\n",
       "      <td>EGO</td>\n",
       "      <td>50.0</td>\n",
       "      <td>2017-02-23T09:25:00Z</td>\n",
       "      <td>SU9</td>\n",
       "      <td>531000.0</td>\n",
       "      <td>60.0</td>\n",
       "      <td>0.0</td>\n",
       "      <td>8.0</td>\n",
       "      <td>2</td>\n",
       "      <td>0.70</td>\n",
       "      <td>467715.71</td>\n",
       "    </tr>\n",
       "    <tr>\n",
       "      <th>1</th>\n",
       "      <td>2</td>\n",
       "      <td>136642</td>\n",
       "      <td>AAQ</td>\n",
       "      <td>EGO</td>\n",
       "      <td>49.0</td>\n",
       "      <td>2017-01-30T09:25:00Z</td>\n",
       "      <td>SU9</td>\n",
       "      <td>531000.0</td>\n",
       "      <td>54.0</td>\n",
       "      <td>0.0</td>\n",
       "      <td>10.0</td>\n",
       "      <td>1</td>\n",
       "      <td>0.66</td>\n",
       "      <td>468981.40</td>\n",
       "    </tr>\n",
       "  </tbody>\n",
       "</table>\n",
       "</div>"
      ],
      "text/plain": [
       "   row_number  flight_id departure_airport arrival_airport  duration  \\\n",
       "0           1     136807               AAQ             EGO      50.0   \n",
       "1           2     136642               AAQ             EGO      49.0   \n",
       "\n",
       "    scheduled_departure aircraft_code  tick_cost  total_economy  \\\n",
       "0  2017-02-23T09:25:00Z           SU9   531000.0           60.0   \n",
       "1  2017-01-30T09:25:00Z           SU9   531000.0           54.0   \n",
       "\n",
       "   total_comfort  total_bisiness  month  occupancy     profit  \n",
       "0            0.0             8.0      2       0.70  467715.71  \n",
       "1            0.0            10.0      1       0.66  468981.40  "
      ]
     },
     "execution_count": 104,
     "metadata": {},
     "output_type": "execute_result"
    }
   ],
   "source": [
    "df1 = df.copy()\n",
    "#удаляем строки, в которых заполняемость самолета 75% и выше\n",
    "df1.drop(df[df.occupancy >= 0.75].index, inplace=True)\n",
    "df1.head(5)"
   ]
  },
  {
   "cell_type": "markdown",
   "metadata": {},
   "source": [
    "В итоге у нас сформировалась БД, содержащая информацию о двух рейсах:\n",
    "-fliight_id = 136807\n",
    "-fliight_id = 136642\n",
    "следующих из г.Анапа в г.Белгород, от которых предлагается отказаться авиакомпании как от самых малоприбыльных"
   ]
  },
  {
   "cell_type": "code",
   "execution_count": 106,
   "metadata": {},
   "outputs": [
    {
     "data": {
      "text/plain": [
       "arrival_airport\n",
       "SVO    59\n",
       "EGO    59\n",
       "Name: flight_id, dtype: int64"
      ]
     },
     "execution_count": 106,
     "metadata": {},
     "output_type": "execute_result"
    }
   ],
   "source": [
    "\n",
    "df.groupby(['arrival_airport'])['flight_id'].count().sort_values(ascending=False)"
   ]
  },
  {
   "cell_type": "markdown",
   "metadata": {},
   "source": [
    "Поскольку половина рейсов авиакомпании в зимний период приходится на г.Белгород, то мы не можем говоритьЮ что это направление в целом неприбыльное."
   ]
  }
 ],
 "metadata": {
  "kernelspec": {
   "display_name": "Python 3",
   "language": "python",
   "name": "python3"
  },
  "language_info": {
   "codemirror_mode": {
    "name": "ipython",
    "version": 3
   },
   "file_extension": ".py",
   "mimetype": "text/x-python",
   "name": "python",
   "nbconvert_exporter": "python",
   "pygments_lexer": "ipython3",
   "version": "3.8.5"
  }
 },
 "nbformat": 4,
 "nbformat_minor": 4
}
